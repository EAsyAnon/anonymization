{
 "cells": [
  {
   "cell_type": "code",
   "execution_count": 1,
   "id": "initial_id",
   "metadata": {
    "collapsed": true,
    "ExecuteTime": {
     "end_time": "2024-01-02T08:31:22.339759900Z",
     "start_time": "2024-01-02T08:31:21.947827300Z"
    }
   },
   "outputs": [],
   "source": [
    "import sys\n",
    "sys.path.append('..')\n",
    "from anonymize.generalize import *"
   ]
  },
  {
   "cell_type": "code",
   "execution_count": 2,
   "outputs": [],
   "source": [
    "# Example dataframe\n",
    "df = pd.DataFrame({\n",
    "    'img': [1, 2, 3, 4, 5],\n",
    "    'Label 1': ['foo', 'bar', 'cat', 'dog', 'eagle'],\n",
    "    'Label 2': ['foo', 'bar', 'cat', 'dog', 'bird']\n",
    "})"
   ],
   "metadata": {
    "collapsed": false,
    "ExecuteTime": {
     "end_time": "2024-01-02T08:31:23.251280500Z",
     "start_time": "2024-01-02T08:31:23.232754200Z"
    }
   },
   "id": "e8f3d01e875dc103"
  },
  {
   "cell_type": "code",
   "execution_count": 3,
   "outputs": [
    {
     "data": {
      "text/plain": "   img Label 1 Label 2\n0    1     foo     foo\n1    2     bar     bar\n2    3     cat     cat\n3    4     dog     dog\n4    5   eagle    bird",
      "text/html": "<div>\n<style scoped>\n    .dataframe tbody tr th:only-of-type {\n        vertical-align: middle;\n    }\n\n    .dataframe tbody tr th {\n        vertical-align: top;\n    }\n\n    .dataframe thead th {\n        text-align: right;\n    }\n</style>\n<table border=\"1\" class=\"dataframe\">\n  <thead>\n    <tr style=\"text-align: right;\">\n      <th></th>\n      <th>img</th>\n      <th>Label 1</th>\n      <th>Label 2</th>\n    </tr>\n  </thead>\n  <tbody>\n    <tr>\n      <th>0</th>\n      <td>1</td>\n      <td>foo</td>\n      <td>foo</td>\n    </tr>\n    <tr>\n      <th>1</th>\n      <td>2</td>\n      <td>bar</td>\n      <td>bar</td>\n    </tr>\n    <tr>\n      <th>2</th>\n      <td>3</td>\n      <td>cat</td>\n      <td>cat</td>\n    </tr>\n    <tr>\n      <th>3</th>\n      <td>4</td>\n      <td>dog</td>\n      <td>dog</td>\n    </tr>\n    <tr>\n      <th>4</th>\n      <td>5</td>\n      <td>eagle</td>\n      <td>bird</td>\n    </tr>\n  </tbody>\n</table>\n</div>"
     },
     "execution_count": 3,
     "metadata": {},
     "output_type": "execute_result"
    }
   ],
   "source": [
    "df"
   ],
   "metadata": {
    "collapsed": false,
    "ExecuteTime": {
     "end_time": "2024-01-02T08:31:24.451131Z",
     "start_time": "2024-01-02T08:31:24.443548800Z"
    }
   },
   "id": "1010404eed5bc3e3"
  },
  {
   "cell_type": "code",
   "execution_count": 4,
   "outputs": [],
   "source": [
    "generalize_categorical(df, [1, 2], ['cat', 'dog', 'bird', 'eagle'])"
   ],
   "metadata": {
    "collapsed": false,
    "ExecuteTime": {
     "end_time": "2024-01-02T08:31:25.531670600Z",
     "start_time": "2024-01-02T08:31:25.522878100Z"
    }
   },
   "id": "5f908efd1ca4efe2"
  },
  {
   "cell_type": "code",
   "execution_count": 5,
   "outputs": [
    {
     "data": {
      "text/plain": "   img                  Label 1                  Label 2\n0    1                      foo                      foo\n1    2                      bar                      bar\n2    3  (eagle, dog, bird, cat)  (eagle, dog, bird, cat)\n3    4  (eagle, dog, bird, cat)  (eagle, dog, bird, cat)\n4    5  (eagle, dog, bird, cat)  (eagle, dog, bird, cat)",
      "text/html": "<div>\n<style scoped>\n    .dataframe tbody tr th:only-of-type {\n        vertical-align: middle;\n    }\n\n    .dataframe tbody tr th {\n        vertical-align: top;\n    }\n\n    .dataframe thead th {\n        text-align: right;\n    }\n</style>\n<table border=\"1\" class=\"dataframe\">\n  <thead>\n    <tr style=\"text-align: right;\">\n      <th></th>\n      <th>img</th>\n      <th>Label 1</th>\n      <th>Label 2</th>\n    </tr>\n  </thead>\n  <tbody>\n    <tr>\n      <th>0</th>\n      <td>1</td>\n      <td>foo</td>\n      <td>foo</td>\n    </tr>\n    <tr>\n      <th>1</th>\n      <td>2</td>\n      <td>bar</td>\n      <td>bar</td>\n    </tr>\n    <tr>\n      <th>2</th>\n      <td>3</td>\n      <td>(eagle, dog, bird, cat)</td>\n      <td>(eagle, dog, bird, cat)</td>\n    </tr>\n    <tr>\n      <th>3</th>\n      <td>4</td>\n      <td>(eagle, dog, bird, cat)</td>\n      <td>(eagle, dog, bird, cat)</td>\n    </tr>\n    <tr>\n      <th>4</th>\n      <td>5</td>\n      <td>(eagle, dog, bird, cat)</td>\n      <td>(eagle, dog, bird, cat)</td>\n    </tr>\n  </tbody>\n</table>\n</div>"
     },
     "execution_count": 5,
     "metadata": {},
     "output_type": "execute_result"
    }
   ],
   "source": [
    "df"
   ],
   "metadata": {
    "collapsed": false,
    "ExecuteTime": {
     "end_time": "2024-01-02T08:31:30.039174800Z",
     "start_time": "2024-01-02T08:31:30.011867200Z"
    }
   },
   "id": "d44cd5ddd0ba4def"
  },
  {
   "cell_type": "code",
   "execution_count": 6,
   "outputs": [],
   "source": [
    "users = {\n",
    "    'user_id': [1, 2, 3, 4, 5],\n",
    "    'age': [1.5, 4.3, 7.9, 15.8, 30.0],\n",
    "    'income': [40000, 40000, 60000, 45000, 90000]\n",
    "}"
   ],
   "metadata": {
    "collapsed": false,
    "ExecuteTime": {
     "end_time": "2024-01-02T08:31:52.563643100Z",
     "start_time": "2024-01-02T08:31:52.516241900Z"
    }
   },
   "id": "40a0089c51661893"
  },
  {
   "cell_type": "code",
   "execution_count": 7,
   "outputs": [],
   "source": [
    "df = pd.DataFrame(users)"
   ],
   "metadata": {
    "collapsed": false,
    "ExecuteTime": {
     "end_time": "2024-01-02T08:31:58.573169900Z",
     "start_time": "2024-01-02T08:31:58.566082600Z"
    }
   },
   "id": "b96f8b7b397c900e"
  },
  {
   "cell_type": "code",
   "execution_count": 8,
   "outputs": [],
   "source": [
    "discretize(df, 1, 5.0)"
   ],
   "metadata": {
    "collapsed": false,
    "ExecuteTime": {
     "end_time": "2024-01-02T08:32:24.031136Z",
     "start_time": "2024-01-02T08:32:24.018740600Z"
    }
   },
   "id": "6a0b4a5fce10ae31"
  },
  {
   "cell_type": "code",
   "execution_count": 9,
   "outputs": [
    {
     "data": {
      "text/plain": "   user_id           age  income\n0        1    (0.0, 4.0)   40000\n1        2    (0.0, 4.0)   40000\n2        3    (5.0, 9.0)   60000\n3        4  (15.0, 19.0)   45000\n4        5  (30.0, 34.0)   90000",
      "text/html": "<div>\n<style scoped>\n    .dataframe tbody tr th:only-of-type {\n        vertical-align: middle;\n    }\n\n    .dataframe tbody tr th {\n        vertical-align: top;\n    }\n\n    .dataframe thead th {\n        text-align: right;\n    }\n</style>\n<table border=\"1\" class=\"dataframe\">\n  <thead>\n    <tr style=\"text-align: right;\">\n      <th></th>\n      <th>user_id</th>\n      <th>age</th>\n      <th>income</th>\n    </tr>\n  </thead>\n  <tbody>\n    <tr>\n      <th>0</th>\n      <td>1</td>\n      <td>(0.0, 4.0)</td>\n      <td>40000</td>\n    </tr>\n    <tr>\n      <th>1</th>\n      <td>2</td>\n      <td>(0.0, 4.0)</td>\n      <td>40000</td>\n    </tr>\n    <tr>\n      <th>2</th>\n      <td>3</td>\n      <td>(5.0, 9.0)</td>\n      <td>60000</td>\n    </tr>\n    <tr>\n      <th>3</th>\n      <td>4</td>\n      <td>(15.0, 19.0)</td>\n      <td>45000</td>\n    </tr>\n    <tr>\n      <th>4</th>\n      <td>5</td>\n      <td>(30.0, 34.0)</td>\n      <td>90000</td>\n    </tr>\n  </tbody>\n</table>\n</div>"
     },
     "execution_count": 9,
     "metadata": {},
     "output_type": "execute_result"
    }
   ],
   "source": [
    "df"
   ],
   "metadata": {
    "collapsed": false,
    "ExecuteTime": {
     "end_time": "2024-01-02T08:32:25.098259500Z",
     "start_time": "2024-01-02T08:32:25.086352800Z"
    }
   },
   "id": "1774dfdd089971a5"
  }
 ],
 "metadata": {
  "kernelspec": {
   "display_name": "Python 3",
   "language": "python",
   "name": "python3"
  },
  "language_info": {
   "codemirror_mode": {
    "name": "ipython",
    "version": 2
   },
   "file_extension": ".py",
   "mimetype": "text/x-python",
   "name": "python",
   "nbconvert_exporter": "python",
   "pygments_lexer": "ipython2",
   "version": "2.7.6"
  }
 },
 "nbformat": 4,
 "nbformat_minor": 5
}
