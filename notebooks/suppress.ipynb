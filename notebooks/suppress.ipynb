{
 "cells": [
  {
   "cell_type": "code",
   "execution_count": 1,
   "id": "initial_id",
   "metadata": {
    "collapsed": true,
    "ExecuteTime": {
     "end_time": "2024-01-02T09:13:05.496237900Z",
     "start_time": "2024-01-02T09:13:04.761308100Z"
    }
   },
   "outputs": [],
   "source": [
    "import sys\n",
    "sys.path.append('..')\n",
    "from anonymize.suppress import *"
   ]
  },
  {
   "cell_type": "code",
   "execution_count": 2,
   "outputs": [],
   "source": [
    "# Example dataframe\n",
    "df = pd.DataFrame({\n",
    "    'hour': [8, 14, 15, 20, 23],\n",
    "    'object': ['person', 'person', 'cat', 'dog', 'crow'],\n",
    "    'age': [20, 55, 3, 5, 1]\n",
    "})"
   ],
   "metadata": {
    "collapsed": false,
    "ExecuteTime": {
     "end_time": "2024-01-02T09:13:05.514854600Z",
     "start_time": "2024-01-02T09:13:05.499444100Z"
    }
   },
   "id": "16b01847db8e989f"
  },
  {
   "cell_type": "code",
   "execution_count": 3,
   "outputs": [
    {
     "data": {
      "text/plain": "   hour  object  age\n0     8  person   20\n1    14  person   55\n2    15     cat    3\n3    20     dog    5\n4    23    crow    1",
      "text/html": "<div>\n<style scoped>\n    .dataframe tbody tr th:only-of-type {\n        vertical-align: middle;\n    }\n\n    .dataframe tbody tr th {\n        vertical-align: top;\n    }\n\n    .dataframe thead th {\n        text-align: right;\n    }\n</style>\n<table border=\"1\" class=\"dataframe\">\n  <thead>\n    <tr style=\"text-align: right;\">\n      <th></th>\n      <th>hour</th>\n      <th>object</th>\n      <th>age</th>\n    </tr>\n  </thead>\n  <tbody>\n    <tr>\n      <th>0</th>\n      <td>8</td>\n      <td>person</td>\n      <td>20</td>\n    </tr>\n    <tr>\n      <th>1</th>\n      <td>14</td>\n      <td>person</td>\n      <td>55</td>\n    </tr>\n    <tr>\n      <th>2</th>\n      <td>15</td>\n      <td>cat</td>\n      <td>3</td>\n    </tr>\n    <tr>\n      <th>3</th>\n      <td>20</td>\n      <td>dog</td>\n      <td>5</td>\n    </tr>\n    <tr>\n      <th>4</th>\n      <td>23</td>\n      <td>crow</td>\n      <td>1</td>\n    </tr>\n  </tbody>\n</table>\n</div>"
     },
     "execution_count": 3,
     "metadata": {},
     "output_type": "execute_result"
    }
   ],
   "source": [
    "df"
   ],
   "metadata": {
    "collapsed": false,
    "ExecuteTime": {
     "end_time": "2024-01-02T09:13:05.525943300Z",
     "start_time": "2024-01-02T09:13:05.503447800Z"
    }
   },
   "id": "e66523fe88823256"
  },
  {
   "cell_type": "code",
   "execution_count": 4,
   "outputs": [
    {
     "name": "stdout",
     "output_type": "stream",
     "text": [
      "[]\n"
     ]
    }
   ],
   "source": [
    "suppress_categorical(df, 'cat', 1)"
   ],
   "metadata": {
    "collapsed": false,
    "ExecuteTime": {
     "end_time": "2024-01-02T09:13:06.499347900Z",
     "start_time": "2024-01-02T09:13:06.482631700Z"
    }
   },
   "id": "dd25c430ec7c2609"
  },
  {
   "cell_type": "code",
   "execution_count": 5,
   "outputs": [
    {
     "data": {
      "text/plain": "   hour                    object  age\n0     8                    person   20\n1    14                    person   55\n2    15  (crow, cat, person, dog)    3\n3    20                       dog    5\n4    23                      crow    1",
      "text/html": "<div>\n<style scoped>\n    .dataframe tbody tr th:only-of-type {\n        vertical-align: middle;\n    }\n\n    .dataframe tbody tr th {\n        vertical-align: top;\n    }\n\n    .dataframe thead th {\n        text-align: right;\n    }\n</style>\n<table border=\"1\" class=\"dataframe\">\n  <thead>\n    <tr style=\"text-align: right;\">\n      <th></th>\n      <th>hour</th>\n      <th>object</th>\n      <th>age</th>\n    </tr>\n  </thead>\n  <tbody>\n    <tr>\n      <th>0</th>\n      <td>8</td>\n      <td>person</td>\n      <td>20</td>\n    </tr>\n    <tr>\n      <th>1</th>\n      <td>14</td>\n      <td>person</td>\n      <td>55</td>\n    </tr>\n    <tr>\n      <th>2</th>\n      <td>15</td>\n      <td>(crow, cat, person, dog)</td>\n      <td>3</td>\n    </tr>\n    <tr>\n      <th>3</th>\n      <td>20</td>\n      <td>dog</td>\n      <td>5</td>\n    </tr>\n    <tr>\n      <th>4</th>\n      <td>23</td>\n      <td>crow</td>\n      <td>1</td>\n    </tr>\n  </tbody>\n</table>\n</div>"
     },
     "execution_count": 5,
     "metadata": {},
     "output_type": "execute_result"
    }
   ],
   "source": [
    "df"
   ],
   "metadata": {
    "collapsed": false,
    "ExecuteTime": {
     "end_time": "2024-01-02T09:13:07.381608500Z",
     "start_time": "2024-01-02T09:13:07.355332200Z"
    }
   },
   "id": "2b8e243414bc9ddc"
  },
  {
   "cell_type": "code",
   "execution_count": 6,
   "outputs": [
    {
     "name": "stdout",
     "output_type": "stream",
     "text": [
      "[frozenset({'crow', 'cat', 'person', 'dog'})]\n"
     ]
    }
   ],
   "source": [
    "suppress_categorical(df, 'person', 1)"
   ],
   "metadata": {
    "collapsed": false,
    "ExecuteTime": {
     "end_time": "2024-01-02T09:13:08.662518400Z",
     "start_time": "2024-01-02T09:13:08.647407400Z"
    }
   },
   "id": "b331cc7fa50c1803"
  },
  {
   "cell_type": "code",
   "execution_count": 7,
   "outputs": [
    {
     "data": {
      "text/plain": "   hour                    object  age\n0     8  (crow, cat, person, dog)   20\n1    14  (crow, cat, person, dog)   55\n2    15  (crow, cat, person, dog)    3\n3    20                       dog    5\n4    23                      crow    1",
      "text/html": "<div>\n<style scoped>\n    .dataframe tbody tr th:only-of-type {\n        vertical-align: middle;\n    }\n\n    .dataframe tbody tr th {\n        vertical-align: top;\n    }\n\n    .dataframe thead th {\n        text-align: right;\n    }\n</style>\n<table border=\"1\" class=\"dataframe\">\n  <thead>\n    <tr style=\"text-align: right;\">\n      <th></th>\n      <th>hour</th>\n      <th>object</th>\n      <th>age</th>\n    </tr>\n  </thead>\n  <tbody>\n    <tr>\n      <th>0</th>\n      <td>8</td>\n      <td>(crow, cat, person, dog)</td>\n      <td>20</td>\n    </tr>\n    <tr>\n      <th>1</th>\n      <td>14</td>\n      <td>(crow, cat, person, dog)</td>\n      <td>55</td>\n    </tr>\n    <tr>\n      <th>2</th>\n      <td>15</td>\n      <td>(crow, cat, person, dog)</td>\n      <td>3</td>\n    </tr>\n    <tr>\n      <th>3</th>\n      <td>20</td>\n      <td>dog</td>\n      <td>5</td>\n    </tr>\n    <tr>\n      <th>4</th>\n      <td>23</td>\n      <td>crow</td>\n      <td>1</td>\n    </tr>\n  </tbody>\n</table>\n</div>"
     },
     "execution_count": 7,
     "metadata": {},
     "output_type": "execute_result"
    }
   ],
   "source": [
    "df"
   ],
   "metadata": {
    "collapsed": false,
    "ExecuteTime": {
     "end_time": "2024-01-02T09:13:10.487435400Z",
     "start_time": "2024-01-02T09:13:10.461897100Z"
    }
   },
   "id": "1a86cd6630c4678b"
  }
 ],
 "metadata": {
  "kernelspec": {
   "display_name": "Python 3",
   "language": "python",
   "name": "python3"
  },
  "language_info": {
   "codemirror_mode": {
    "name": "ipython",
    "version": 2
   },
   "file_extension": ".py",
   "mimetype": "text/x-python",
   "name": "python",
   "nbconvert_exporter": "python",
   "pygments_lexer": "ipython2",
   "version": "2.7.6"
  }
 },
 "nbformat": 4,
 "nbformat_minor": 5
}
