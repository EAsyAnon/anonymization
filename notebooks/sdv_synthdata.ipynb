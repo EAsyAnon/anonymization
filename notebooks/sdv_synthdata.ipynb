{
 "cells": [
  {
   "cell_type": "markdown",
   "metadata": {},
   "source": [
    "# Importing required libraries and setting path"
   ]
  },
  {
   "cell_type": "code",
   "execution_count": 15,
   "metadata": {},
   "outputs": [],
   "source": [
    "import sdv # Synthetic data library\n",
    "from sdv.metadata import SingleTableMetadata\n",
    "#from sdv.datasets.local import load_csvs\n",
    "from sdv.single_table import GaussianCopulaSynthesizer\n",
    "import pandas as pd # For handling data as dataframes\n",
    "import sys # Used for setting a path to find the dataset\n",
    "\n",
    "sys.path.append('..') # Setting parent directory as current directory\n"
   ]
  },
  {
   "cell_type": "markdown",
   "metadata": {},
   "source": [
    "# Data Preparation"
   ]
  },
  {
   "cell_type": "code",
   "execution_count": 14,
   "metadata": {},
   "outputs": [
    {
     "name": "stdout",
     "output_type": "stream",
     "text": [
      "adult_metadata:\n",
      " {'METADATA_SPEC_VERSION': 'SINGLE_TABLE_V1', 'columns': {'39': {'sdtype': 'numerical'}, ' State-gov': {'sdtype': 'administrative_unit', 'pii': True}, ' 77516': {'sdtype': 'numerical'}, ' Bachelors': {'sdtype': 'categorical'}, ' 13': {'sdtype': 'numerical'}, ' Never-married': {'sdtype': 'categorical'}, ' Adm-clerical': {'sdtype': 'categorical'}, ' Not-in-family': {'sdtype': 'categorical'}, ' White': {'sdtype': 'categorical'}, ' Male': {'sdtype': 'categorical'}, ' 2174': {'sdtype': 'numerical'}, ' 0': {'sdtype': 'numerical'}, ' 40': {'sdtype': 'numerical'}, ' United-States': {'sdtype': 'categorical'}, ' <=50K': {'sdtype': 'categorical'}}}\n"
     ]
    }
   ],
   "source": [
    "#Load Dataset\n",
    "adult = pd.read_csv(\"../datasets/adult/adult.data\")  # load dataset, adjust if data is stored somewhere else\n",
    "\n",
    "#Preparing Meta Data\n",
    "adult_metadata = SingleTableMetadata() # Create blank meta data object\n",
    "adult_metadata.detect_from_dataframe(adult) # Detect meta data\n",
    "\n",
    "# Print Meta Data information\n",
    "python_dict = adult_metadata.to_dict() # Convert to python dictionary\n",
    "print(\"adult_metadata:\\n\", python_dict) # Print meta data\n"
   ]
  },
  {
   "cell_type": "markdown",
   "metadata": {},
   "source": [
    "# Modeling"
   ]
  },
  {
   "cell_type": "code",
   "execution_count": 21,
   "metadata": {},
   "outputs": [
    {
     "name": "stdout",
     "output_type": "stream",
     "text": [
      "       39          State-gov   77516    Bachelors   13        Never-married  \\\n",
      "0      50   Self-emp-not-inc   83311    Bachelors   13   Married-civ-spouse   \n",
      "1      38            Private  215646      HS-grad    9             Divorced   \n",
      "2      53            Private  234721         11th    7   Married-civ-spouse   \n",
      "3      28            Private  338409    Bachelors   13   Married-civ-spouse   \n",
      "4      37            Private  284582      Masters   14   Married-civ-spouse   \n",
      "...    ..                ...     ...          ...  ...                  ...   \n",
      "32555  27            Private  257302   Assoc-acdm   12   Married-civ-spouse   \n",
      "32556  40            Private  154374      HS-grad    9   Married-civ-spouse   \n",
      "32557  58            Private  151910      HS-grad    9              Widowed   \n",
      "32558  22            Private  201490      HS-grad    9        Never-married   \n",
      "32559  52       Self-emp-inc  287927      HS-grad    9   Married-civ-spouse   \n",
      "\n",
      "             Adm-clerical   Not-in-family   White     Male   2174   0   40  \\\n",
      "0         Exec-managerial         Husband   White     Male      0   0   13   \n",
      "1       Handlers-cleaners   Not-in-family   White     Male      0   0   40   \n",
      "2       Handlers-cleaners         Husband   Black     Male      0   0   40   \n",
      "3          Prof-specialty            Wife   Black   Female      0   0   40   \n",
      "4         Exec-managerial            Wife   White   Female      0   0   40   \n",
      "...                   ...             ...     ...      ...    ...  ..  ...   \n",
      "32555        Tech-support            Wife   White   Female      0   0   38   \n",
      "32556   Machine-op-inspct         Husband   White     Male      0   0   40   \n",
      "32557        Adm-clerical       Unmarried   White   Female      0   0   40   \n",
      "32558        Adm-clerical       Own-child   White     Male      0   0   20   \n",
      "32559     Exec-managerial            Wife   White   Female  15024   0   40   \n",
      "\n",
      "        United-States   <=50K  \n",
      "0       United-States   <=50K  \n",
      "1       United-States   <=50K  \n",
      "2       United-States   <=50K  \n",
      "3                Cuba   <=50K  \n",
      "4       United-States   <=50K  \n",
      "...               ...     ...  \n",
      "32555   United-States   <=50K  \n",
      "32556   United-States    >50K  \n",
      "32557   United-States   <=50K  \n",
      "32558   United-States   <=50K  \n",
      "32559   United-States    >50K  \n",
      "\n",
      "[32560 rows x 15 columns]\n",
      "     39       State-gov   77516      Bachelors   13        Never-married  \\\n",
      "0    46        Virginia  170074   Some-college    8   Married-civ-spouse   \n",
      "1    51        New York  199763   Some-college   10             Divorced   \n",
      "2    62          Oregon   99579      Bachelors   12        Never-married   \n",
      "3    44           Maine  104695    Prof-school    8   Married-civ-spouse   \n",
      "4    31        Missouri  242219           10th    9        Never-married   \n",
      "..   ..             ...     ...            ...  ...                  ...   \n",
      "995  22          Hawaii  234495        HS-grad    9        Never-married   \n",
      "996  50  South Carolina  168545        HS-grad    8        Never-married   \n",
      "997  27        Nebraska  283842        HS-grad   10              Widowed   \n",
      "998  36        Arkansas  314281           11th    7        Never-married   \n",
      "999  36        Colorado   99145      Bachelors   11             Divorced   \n",
      "\n",
      "           Adm-clerical    Not-in-family   White     Male   2174   0   40  \\\n",
      "0         Other-service          Husband   White   Female  64530  47   43   \n",
      "1     Handlers-cleaners             Wife   White     Male   8900   0   36   \n",
      "2                 Sales          Husband   White   Female  27840   1   37   \n",
      "3     Machine-op-inspct    Not-in-family   White     Male  11402   3   41   \n",
      "4        Prof-specialty        Unmarried   White   Female  32507   0   49   \n",
      "..                  ...              ...     ...      ...    ...  ..  ...   \n",
      "995        Adm-clerical        Unmarried   Black     Male  41333   0   44   \n",
      "996      Prof-specialty          Husband   White     Male  44761   0   46   \n",
      "997   Handlers-cleaners   Other-relative   Black   Female  20637  55   23   \n",
      "998    Transport-moving        Own-child   White     Male   2683  62   29   \n",
      "999        Craft-repair             Wife   White   Female  55833   0   16   \n",
      "\n",
      "      United-States   <=50K  \n",
      "0     United-States   <=50K  \n",
      "1     United-States   <=50K  \n",
      "2     United-States   <=50K  \n",
      "3     United-States   <=50K  \n",
      "4     United-States   <=50K  \n",
      "..              ...     ...  \n",
      "995   United-States    >50K  \n",
      "996   United-States   <=50K  \n",
      "997   United-States   <=50K  \n",
      "998   United-States   <=50K  \n",
      "999   United-States    >50K  \n",
      "\n",
      "[1000 rows x 15 columns]\n"
     ]
    }
   ],
   "source": [
    "# Step 1: Create synthesitzer object\n",
    "synthesizer = GaussianCopulaSynthesizer(adult_metadata)\n",
    "\n",
    "# Step 2: Train the synthesizer\n",
    "synthesizer.fit(adult)\n",
    "\n",
    "# Step 3: Generate synthetic data\n",
    "synthetic_data = synthesizer.sample(1000)\n",
    "\n",
    "# Print synthetic data\n",
    "print(adult)\n",
    "print(synthetic_data)\n",
    "synthetic_data.to_csv('../../../datasets/adult/synthetic_adult.data', index=False)\n"
   ]
  }
 ],
 "metadata": {
  "kernelspec": {
   "display_name": "Python 3",
   "language": "python",
   "name": "python3"
  },
  "language_info": {
   "codemirror_mode": {
    "name": "ipython",
    "version": 3
   },
   "file_extension": ".py",
   "mimetype": "text/x-python",
   "name": "python",
   "nbconvert_exporter": "python",
   "pygments_lexer": "ipython3",
   "version": "3.10.12"
  }
 },
 "nbformat": 4,
 "nbformat_minor": 2
}
